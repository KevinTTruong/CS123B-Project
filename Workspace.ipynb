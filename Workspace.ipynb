{
 "cells": [
  {
   "cell_type": "markdown",
   "metadata": {},
   "source": [
    "### Load libraries"
   ]
  },
  {
   "cell_type": "code",
   "execution_count": 1,
   "metadata": {},
   "outputs": [],
   "source": [
    "import numpy as np                                       #NumPy\n",
    "from os import listdir                                   #List items in directory\n",
    "from Bio.Align import PairwiseAligner                    #Used to align sequences (my 123A implementation is too slow)\n",
    "import matplotlib.pyplot as plt                          #Data visualization (for the phylogenetic tree)\n",
    "from scipy.cluster.hierarchy import dendrogram           #Plot a dendrogram/phylogenetic tree\n",
    "from scipy.cluster.hierarchy import linkage              #Clustering required to by dendrogram\n",
    "from matplotlib.pyplot import figure                     #Used to adjust the figure size\n",
    "from Bio import AlignIO                                  #Used to import an aligned fasta file"
   ]
  },
  {
   "cell_type": "markdown",
   "metadata": {},
   "source": [
    "### Create a FASTA node"
   ]
  },
  {
   "cell_type": "code",
   "execution_count": 2,
   "metadata": {},
   "outputs": [],
   "source": [
    "class FASTA():\n",
    "    def __init__(self, name, sequence, animal):\n",
    "        self.name = name\n",
    "        self.sequence = sequence\n",
    "        self.animal = animal"
   ]
  },
  {
   "cell_type": "markdown",
   "metadata": {},
   "source": [
    "### Load FASTA files while also combining the data into 1 file"
   ]
  },
  {
   "cell_type": "markdown",
   "metadata": {},
   "source": [
    "#### Soy Leghemoglobin Data"
   ]
  },
  {
   "cell_type": "code",
   "execution_count": 3,
   "metadata": {},
   "outputs": [],
   "source": [
    "leg_data = []    # Basic data set\n",
    "combined = open(\"Alignment\\leg_data_unaligned.fasta\", \"w\")\n",
    "\n",
    "for filename in listdir(\"Raw Data\\Soy Leghemoglobin\"):\n",
    "    file = open(\"Raw Data\\Soy Leghemoglobin\\\\\"+filename, \"r\")\n",
    "    name = file.readline()[1:]\n",
    "    combined.write(\">\"+name)\n",
    "    \n",
    "    sequence = \"\"\n",
    "    for line in file.read().split(\"\\n\"):\n",
    "        if not line == \"\":\n",
    "            sequence += line\n",
    "    combined.write(sequence+\"\\n\\n\")\n",
    "    \n",
    "    leg_data.append(FASTA(name, sequence, \"Soy\"))\n",
    "    \n",
    "    file.close()\n",
    "combined.close()"
   ]
  },
  {
   "cell_type": "markdown",
   "metadata": {},
   "source": [
    "#### Various Myoglobin Data"
   ]
  },
  {
   "cell_type": "code",
   "execution_count": 4,
   "metadata": {},
   "outputs": [],
   "source": [
    "myo_data = []\n",
    "combined = open(\"Alignment\\myo_data_unaligned.fasta\", \"w\")\n",
    "\n",
    "for filename in listdir(\"Raw Data\\Various Myoglobin\"):\n",
    "    file = open(\"Raw Data\\Various Myoglobin\\\\\"+filename, \"r\")\n",
    "    name = file.readline()[1:]\n",
    "    combined.write(\">\"+name)\n",
    "    \n",
    "    sequence = \"\"\n",
    "    for line in file.read().split(\"\\n\"):\n",
    "        if not line == \"\":\n",
    "            sequence += line\n",
    "    combined.write(sequence+\"\\n\\n\")\n",
    "    \n",
    "    myo_data.append(FASTA(name, sequence, filename[:filename.index(\" \")]))\n",
    "    \n",
    "    file.close()\n",
    "combined.close()"
   ]
  },
  {
   "cell_type": "markdown",
   "metadata": {},
   "source": [
    "### Build a Phylogenetic Tree using a Distance Matrix"
   ]
  },
  {
   "cell_type": "code",
   "execution_count": 5,
   "metadata": {},
   "outputs": [],
   "source": [
    "def build_tree(data, labels):\n",
    "    # Create a distance matrix from the sequences\n",
    "    dists = []\n",
    "    for i in range(len(data)-1):\n",
    "        dists_i = []\n",
    "        for j in range(i+1, len(data)):\n",
    "            alignment = PairwiseAligner().align(data[i].sequence,data[j].sequence)\n",
    "            dists_i.append(alignment.score)\n",
    "        dists.append(dists_i)\n",
    "    # Fill repetitive half of distance matrix\n",
    "    dists.append([])\n",
    "    dists = np.flip(dists).tolist()\n",
    "    for i in range(int((len(dists)+1)/2)):\n",
    "        dist_save = dists[i]\n",
    "        dists[i] = dists[i] + [0] + np.flip(dists[len(dists)-i-1]).tolist()\n",
    "        if i!=len(dists)-i-1:\n",
    "            dists[len(dists)-i-1] = dists[len(dists)-i-1] + [0] + np.flip(dist_save).tolist()\n",
    "    # Build tree    \n",
    "    linkage_matrix = linkage(dists)\n",
    "    dendrogram(linkage_matrix, labels=labels, orientation=\"right\")\n",
    "    plt.show()"
   ]
  },
  {
   "cell_type": "markdown",
   "metadata": {},
   "source": [
    "#### Leghemoglobin data set"
   ]
  },
  {
   "cell_type": "code",
   "execution_count": 6,
   "metadata": {},
   "outputs": [
    {
     "name": "stderr",
     "output_type": "stream",
     "text": [
      "C:\\Users\\truon\\anaconda3\\lib\\site-packages\\numpy\\core\\_asarray.py:83: VisibleDeprecationWarning: Creating an ndarray from ragged nested sequences (which is a list-or-tuple of lists-or-tuples-or ndarrays with different lengths or shapes) is deprecated. If you meant to do this, you must specify 'dtype=object' when creating the ndarray\n",
      "  return array(a, dtype, copy=False, order=order)\n"
     ]
    },
    {
     "data": {
      "image/png": "[encoded data removed]",
      "text/plain": [
       "<Figure size 720x432 with 1 Axes>"
      ]
     },
     "metadata": {
      "needs_background": "light"
     },
     "output_type": "display_data"
    }
   ],
   "source": [
    "leg_labels = [\"Soy\"]*len(leg_data)\n",
    "figure(figsize=(10,6))\n",
    "build_tree(leg_data, leg_labels)\n",
    "#Very large numbers, hence they are super similar"
   ]
  },
  {
   "cell_type": "markdown",
   "metadata": {},
   "source": [
    "#### Myoglobin data set"
   ]
  },
  {
   "cell_type": "markdown",
   "metadata": {},
   "source": [
    "##### Gather animals for figure label"
   ]
  },
  {
   "cell_type": "code",
   "execution_count": 7,
   "metadata": {},
   "outputs": [],
   "source": [
    "myo_labels = []\n",
    "for entry in myo_data:\n",
    "    myo_labels.append(entry.animal)"
   ]
  },
  {
   "cell_type": "markdown",
   "metadata": {},
   "source": [
    "##### Plot figure"
   ]
  },
  {
   "cell_type": "code",
   "execution_count": 8,
   "metadata": {},
   "outputs": [
    {
     "data": {
      "image/png": "[encoded data removed]",
      "text/plain": [
       "<Figure size 720x576 with 1 Axes>"
      ]
     },
     "metadata": {
      "needs_background": "light"
     },
     "output_type": "display_data"
    }
   ],
   "source": [
    "figure(figsize=(10,8))\n",
    "build_tree(myo_data, myo_labels)    \n",
    "# No correlation, hence their isn't really a difference"
   ]
  },
  {
   "cell_type": "markdown",
   "metadata": {},
   "source": [
    "#### Combination of both sets"
   ]
  },
  {
   "cell_type": "markdown",
   "metadata": {},
   "source": [
    "##### Combine data"
   ]
  },
  {
   "cell_type": "code",
   "execution_count": 9,
   "metadata": {},
   "outputs": [],
   "source": [
    "all_data = myo_data + leg_data"
   ]
  },
  {
   "cell_type": "markdown",
   "metadata": {},
   "source": [
    "##### Remove outliers (Comment to view original results)"
   ]
  },
  {
   "cell_type": "code",
   "execution_count": 10,
   "metadata": {},
   "outputs": [],
   "source": [
    "all_data = np.delete(all_data, [4,45]).tolist()"
   ]
  },
  {
   "cell_type": "markdown",
   "metadata": {},
   "source": [
    "##### Gather animals for figure label"
   ]
  },
  {
   "cell_type": "code",
   "execution_count": 11,
   "metadata": {},
   "outputs": [],
   "source": [
    "all_labels = []\n",
    "for entry in all_data:\n",
    "    all_labels.append(entry.animal)"
   ]
  },
  {
   "cell_type": "markdown",
   "metadata": {},
   "source": [
    "##### Plot figure"
   ]
  },
  {
   "cell_type": "code",
   "execution_count": 12,
   "metadata": {},
   "outputs": [
    {
     "data": {
      "image/png": "[encoded data removed]",
      "text/plain": [
       "<Figure size 1440x864 with 1 Axes>"
      ]
     },
     "metadata": {
      "needs_background": "light"
     },
     "output_type": "display_data"
    }
   ],
   "source": [
    "figure(figsize=(20,12))\n",
    "build_tree(all_data, all_labels)    \n",
    "#Generally random/low differences; roughly every soy's closest neighbor is non-soy"
   ]
  },
  {
   "cell_type": "markdown",
   "metadata": {},
   "source": [
    "### *Align each combined file extrenally (ClustalOmega: https://www.ebi.ac.uk/Tools/msa/clustalo/)"
   ]
  },
  {
   "cell_type": "markdown",
   "metadata": {},
   "source": [
    "##### Align X_data_unaligned.fasta and save results onto X_data_aligned.clustal"
   ]
  },
  {
   "cell_type": "markdown",
   "metadata": {},
   "source": [
    "##### Create a combination both of files"
   ]
  },
  {
   "cell_type": "code",
   "execution_count": 13,
   "metadata": {},
   "outputs": [],
   "source": [
    "file = open(\"Alignment\\combined_data_unaligned.fasta\", \"w\")\n",
    "leg = open(\"Alignment\\leg_data_unaligned.fasta\", \"r\")\n",
    "myo = open(\"Alignment\\myo_data_unaligned.fasta\", \"r\")\n",
    "\n",
    "file.write(leg.read())\n",
    "file.write(myo.read())\n",
    "\n",
    "leg.close()\n",
    "myo.close()\n",
    "file.close()"
   ]
  },
  {
   "cell_type": "markdown",
   "metadata": {},
   "source": [
    "### Import extrenal alignment of sequences (should be included with project)"
   ]
  },
  {
   "cell_type": "markdown",
   "metadata": {},
   "source": [
    "#### Leghemoglobin data"
   ]
  },
  {
   "cell_type": "code",
   "execution_count": 14,
   "metadata": {},
   "outputs": [
    {
     "name": "stdout",
     "output_type": "stream",
     "text": [
      "MGAFTEKQEALVNSSFEAFKANLPHHSVVFFNSILEKAPAAKNMFSFLGDAVDPKNPKLAGHAEKLFGLVRDSAVQLQTKGLVVADATLGPIHTQKGVTDLQFAVVKEALLKTIKEAVGDKWSEELSNPWEVAYDEIAAAIKKAMAIGSLV |(Soy)V00451.1\n",
      "MGAFTEKQEALVNSSFEAFKANLPHHSVVFFNSILEKAPAAKNMFSFLGDAVDPKNPKLAGHAEKLFGLVRDSAVQLQTKGLVVADATLGPIHTQKGVTDLQFAVVKEALLKTIKEAVGDKWSEELSNAWEVAYDEIAAAIKKAMAIGSLV |(Soy)KHN37872.1\n",
      "-GAFTEKQDALVSSSFEAFKANIPQYSVVFYNSILEKAPAAKDLFSFLANGVDPTNPKLTGHAEKLFALVRDSAGQLKASGTVVADAALGSIHAQKAVTNPEFV-VKEALLKTIKEAVGDKWSDELSSAWEVAYDELAAAIKKAF------ |(Soy)pir||GPSYC2\n",
      "-VAFTEKQDALVSSSFEAFKANIPQYSVVFYTSILEKAPAAKDLFSFLANGVDPTNPKLTGHAEKLFALVRDSAGQLKASGTVVADAALGSVHAQKAVTDPQFVVVKEALLKTIKAAVGDKWSDELSRAWEVAYDELAAAIKKA------- |(Soy)pdb|1FSL|A\n",
      "-VAFTEKQDALVSSSFEAFKANIPQYSVVFYTSILEKAPAAKDLFSFLANGVDPTNPKLTGHAEKLFALVRDSAGQLKASGTVVADAALGSVHAQKAVTDPQFVVVKEALLKTIKAAVGDKWSDELSRAWEVAYDELAAAIKKA------- |(Soy)pdb|1FSL|B\n",
      "MVAFTEKQDALVSSSFEAFKANIPQYSVVFYTSILEKAPAAKDLFSFLANGVDPTNPKLTGHAEKLFALVRDSAGQLKASGTVVADAALGSVHAQKAVTDPQFVVVKEALLKTIKAAVGDKWSDELSRAWEVAYDELAAAIKKA------- |(Soy)V00453.1\n",
      "MVAFTEKQDALVSSSFEAFKANIPQYSVVFYTSILEKAPAAKDLFSFLANGVDPTNPKLTGHAEKLFALVRDSAGQLKASGTVVADAALGSVHAQKAVTDPQFVVVKEALLKTIKAAVGDKWSDELSRAWEVAYDELAAAIKKA------- |(Soy)NP_001235928.1\n",
      "MVAFTEKQDALVSSSFEAFKANIPQYSVVFYTSILEKAPAAKDLFSFLANGVDPTNPKLTGHAEKLFALVRDSAGQLKASGTVVADAALGSVHAQKAVTDPQFVVVKEALLKTIKAAVGDKWSDELSRAWEVAYDELAAAIKKA------- |(Soy)KHN37870.1\n",
      "MVAFTEKQDALVSSSFEAFKANIPQYSVVFYTSILEKAPAAKDLFSFLANGVDPTNPKLTGHAEKLFALVRDSAGQLKASGTVVADAALGSVHAQKAVTDPQFVVVKEALLKTIKAAVGDKWSDELSRAWEVAYDELAAAIKKA------- |(Soy)sp|P02238|LGBA_SOYBN\n",
      "MVAFTEKQDALVSSSFEAFKANIPQYSVVFYTSILEKAPAAKDLFSFLANGVDPTNPKLTGHAEKLFALVRDSAGQLKASGTVVADAALGSVHAQKAVTDPQFVVVKEALLKTIKAAVGDKWSDELSRAWEVAYDELAAAIKKA------- |(Soy)CAA23731.1\n",
      "MGAFTEKQEALVSSSFEAFKANIPQYSVVFYNSILEKAPAAKDLFSFLANGVDPTNPKLTGHAEKLFALVRDSAGQLKTNGTVVADAALVSIHAQKAVTDPQFVVVKEALLKTIKEAVGGNWSDELSSAWEVAYDELAAAIKKA------- |(Soy)V00452.1\n",
      "MGAFTEKQEALVSSSFEAFKANIPQYSVVFYNSILEKAPAAKDLFSFLANGVDPTNPKLTGHAEKLFALVRDSAGQLKTNGTVVADAALVSIHAQKAVTDPQFVVVKEALLKTIKEAVGGNWSDELSSAWEVAYDELAAAIKKA------- |(Soy)NP_001345001.1\n",
      "MGAFTEKQEALVSSSFEAFKANIPQYSVVFYNSILEKAPAAKDLFSFLANGVDPTNPKLTGHAEKLFALVRDSAGQLKTNGTVVADAALVSIHAQKAVTDPQFVVVKEALLKTIKEAVGGNWSDELSSAWEVAYDELAAAIKKA------- |(Soy)sp|P02235|LGB1_SOYBN\n",
      "MGAFTEKQEALVSSSFEAFKANIPQYSVVFYTSILEKAPAAKDLFSFLANGVDPTNPKLTGHAEKLFALVRDSAGQLKTNGTVVADAALVSIHAQKAVTDPQFVVVKEALLKTIKEAVGGNWSDELSSAWEVAYDELAAAIKKA------- |(Soy)KHN37871.1\n",
      "MGAFTEKQEALVSSSFEAFKANIPQYSVVFYTSILEKAPAAKDLFSFLSNGVDPSNPKLTGHAEKLFGLVRDSAGQLKANGTVVADAALGSIHAQKAITDPQFVVVKEALLKTIKEAVGDKWSDELSSAWEVAYDELAAAIKKAF------ |(Soy)NM_001248319.3\n",
      "MGAFTEKQEALVSSSFEAFKANIPQYSVVFYTSILEKAPAAKDLFSFLSNGVDPSNPKLTGHAEKLFGLVRDSAGQLKANGTVVADAALGSIHAQKAITDPQFVVVKEALLKTIKEAVGDKWSDELSSAWEVAYDELAAAIKKAF------ |(Soy)NP_001235248.2\n",
      "MGAFTEKQEALVSSSFEAFKANIPQYSVVFYTSILEKAPAAKDLFSFLSNGVDPSNPKLTGHAEKLFGLVRDSAGQLKANGTVVADAALGSIHAQKAITDPQFVVVKEALLKTIKEAVGDKWSDELSSAWEVAYDELAAAIKKAF------ |(Soy)KHN00941.1\n",
      "MGAFTEKQEALVSSSFEAFKANIPQYSVVFYTSILEKAPAAKDLFSFLSNGVDPSNPKLTGHAEKLFGLVRDSAGQLKANGTVVADAALGSIHAQKAITDPQFVVVKEALLKTIKEAVGDKWSDELSSAWEVAYDELAAAIKKAF------ |(Soy)AAA33980.1\n",
      "MGAFTEKQEALVSSSFEAFKANIPQYSVVFYTSILEKAPAAKDLFSFLSNGVDPSNPKLTGHAEKLFGLVRDSAGQLKANGTVVADAALGSIHAQKAITDPQFVVVKEALLKTIKEAVGDKWSDELSSAWEVAYDELAAAIKKAF------ |(Soy)sp|P02236|LGB2_SOYBN\n",
      "MGAFTEKQEALVSSSFEAFKANIPQYSVVFYTSILEKAPAAKDLFSFLSNGVDPSNPKLTGHAEKLFGLVRDSAGQLKANGTVVADAALGSIHAQKAITDPQFVVVKEALLKTIKEAVGDKWSDELSSAWEVAYDELAAAIKKAF------ |(Soy)sp|P02236.2|LGB2_SOYBN\n",
      "MGAFTEKQEALVSSSFEAFKANIPQYSVVFYTSILEKAPAAKDLFSFLSNGVDPSNPKLTGHAEKLFGLVRDSAGQLKANGTVVADAALGSIHAQKAITDPQFVVVKEALLKTIKEAVGDKWSDELSSAWEVAYDELAAAIKKAF------ |(Soy)J01301.1\n",
      "MGAFTDKQEALVSSSFEAFKTNIPQYSVVFYTSILEKAPVAKDLFSFLANGVDPTNPKLTGHAEKLFGLVRDSAGQLKASGTVVIDAALGSIHGQKAITDPQFVVVKEALLKTIKEAVGDKWSDELSSAWEVAYDELAAAIKKAF------ |(Soy)NP_001235423.1\n",
      "MGAFTDKQEALVSSSFEAFKTNIPQYSVVFYTSILEKAPVAKDLFSFLANGVDPTNPKLTGHAEKLFGLVRDSAGQLKASGTVVIDAALGSIHAQKAITDPQFVVVKEALLKTIKEAVGDKWSDELSSAWEVAYDELAAAIKKA------- |(Soy)V00454.1\n",
      "MGAFTDKQEALVSSSFEAFKTNIPQYSVVFYTSILEKAPVAKDLFSFLANGVDPTNPKLTGHAEKLFGLVRDSAGQLKASGTVVIDAALGSIHAQKAITDPQFVVVKEALLKTIKEAVGDKWSDELSSAWEVAYDELAAAIKKAF------ |(Soy)CAA23732.1\n",
      "MGAFTDKQEALVSSSFEAFKTNIPQYSVVFYTSILEKAPVAKDLFSFLANGVDPTNPKLTGHAEKLFGLVRDSAGQLKASGTVVIDAALGSIHAQKAITDPQFVVVKEALLKTIKEAVGDKWSDELSSAWEVAYDELAAAIKKAF------ |(Soy)sp|P02237.2|LGB3_SOYBN\n"
     ]
    }
   ],
   "source": [
    "leg_data_aligned = AlignIO.read(open(\"Alignment\\leg_data_aligned.clustal\"), \"clustal\")\n",
    "for entry in leg_data_aligned:\n",
    "    print(entry.seq+\" |(Soy)\"+entry.id) \n",
    "# Very clean alignment (low indels), with the exception of the first 2 insertions"
   ]
  },
  {
   "cell_type": "markdown",
   "metadata": {},
   "source": [
    "#### Myoglobin data"
   ]
  },
  {
   "cell_type": "code",
   "execution_count": 15,
   "metadata": {},
   "outputs": [
    {
     "name": "stdout",
     "output_type": "stream",
     "text": [
      "MVLSAADKGNVKAAWGKVGGHAAEYGAEALERMFLSFPTTKTYFPHFDL------SHGSAQVKGHGAKVAAALTKAVEHLDDLPGALSELSDLHAHKLRVDPVNFKLLSHSLLVTLASHLPSDFTPAVHASLDKFLANVSTVLTSKYR------ |Cow\n",
      "----MANYDMVLQCWEPVEADYNNHGGLVLSRLFAEHPETLTLFPKFAGIAAG-DLSGNAAVAAHGATVLRKLGELLNARGDHAATLKSLATTHANKHKIPLKNFTLITNIICKVMGEKAGL--DEAGQEALRQVMGVIIADINVTYMELGFAG |Salmon\n",
      "MGLSDQEWQQVLTIWGKVEADIAGHGHEVLMRLFHDHPETLDRFDKFKGLKTPDQMKGSEDLKKHGATVLTQLGKILKQKGNHESELKPLAQTHATKHKIPVKYLEFISEVIIKVIAEKHAADFGADSQAAMKKALELFRNDMASKYKEFGFQG |Chicken\n",
      "MGLSDQEWQQVLTIWGKVEADIAGHGHEVLMRLFHDHPETLDRFDKFKGLKTPDQMKGSEDLKKHGATVLTQLGKILKQKGNHESELKPLAQTHATKHKIPVKYLEFISEVIIKVIAEKHAADFGADSQAAMKKALELFRNDMASKYKEFGFQG |Chicken\n",
      "MGLSDQEWQQVLTIWGKVEADIAGHGHEVLMRLFHDHPETLDRFDKFKGLKTPDQMKGSEDLKKHGATVLTQLGKILKQKGNHESELKPLAQTHATKHKIPVKYLEFISEVIIKVIAEKHAADFGADSQAAMKKALELFRNDMASKYKEFGFQG |Chicken\n",
      "MGLSDQEWQQVLTIWGKVEADIAGHGHEVLMRLFHDHPETLDRFDKFKGLKTPDQMKGSEDLKKHGATVLTQLGKILKQKGNHESELKPLAQTHATKHKIPVKYLEFISEVIIKVIAEKHAADFGADSQAAMKKALELFRNDMASKYKEFGFQG |Turkey\n",
      "MGLSDQEWQQVLTIWGKVEADIAGHGHEVLMRLFHDHPETLDRFDKFKGLKTPDQMKGSEDLKKHGATVLTQLGKILKQKGNHESELKPLAQTHATKHKIPVKYLEFISEVIIKVIAEKHAADFGADSQAAMKKALELFRNDMASKYKEFGFQG |Turkey\n",
      "MGLSDQEWQQVLTIWGKVEADLAGHGHAVLMRLFQDHPETLDRFEKFKGLKTPDQMKGSEDLKKHGVTVLTQLGKILKQKGNHEAELKPLAQTHATKHKIPVKYLEFISEVIIKVIAEKHSADFGADSQAAMKKALELFRNDMASKYKEFGFQG |Duck\n",
      "MGLSDGEWQLVLNAWGKVEAGVAGHGQEVLIRLFTGHPETLEKFDKFKHLKTEAEMKASEDLKKHGNTVLTALGGILEKKGHHEAEVKHLAESHANKHKIPVKYLEFISDAIIHVLHAKHPSDFGADAQGAMSKALELFRNDMAAQYKVLGFQG |Sheep\n",
      "MGLSDGEWTLVLNAWGKVEADVAGHGQEVLIRLFTGHPETLEKFDKFKHLKTGAEMKASEDLKKHGNTVLTALGGILKKKGHHEAEVKHLAESHANKHKIPVKYLEFISDAIIHVLHAKHPSDFGADAQGAMSKALELFRNDMAAQYKVLGFQG |Goat\n",
      "MGLSDGEWQLVLNAWGKVEADVAGHGQEVLIRLFTGHPETLEKFDKFKHLKTEAEMKASEDLKKHGNTVLTALGGILKKKGHHEAEVKHLAESHANKHKIPVKYLEFISDAIIHVLHAKHPSDFGADAQAAMSKALELFRNDMAAQYKVLGFHG |Cow\n",
      "MGLSDGEWQLVLNAWGKVEADVAGHGQEVLIRLFTGHPETLEKFDKFKHLKTEAEMKASEDLKKHGNTVLTALGGILKKKGHHEAEVKHLAESHANKHKIPVKYLEFISDAIIHVLHAKHPSDFGADAQAAMSKALELFRNDMAAQYKVLGFHG |Cow\n",
      "MGLSDGEWQLVLNAWGKVEADVAGHGQEVLIRLFTGHPETLEKFDKFKHLKTEAEMKASEDLKKHGNTVLTALGGILKKKGHHEAEVKHLAESHANKHKIPVKYLEFISDAIIHVLHAKHPSDFGADAQAAMSKALELFRNDMAAQYKVLGFHG |Cow\n",
      "MGLSDGEWQLVLNAWGKVEADVAGHGQEVLIRLFTGHPETLEKFDKFKHLKTEAEMKASEDLKKHGNTVLTALGGILKKKGHHEAEVKHLAESHANKHKIPVKYLEFISDAIIHVLHAKHPSDFGADAQAAMSKALELFRNDMAAQYKVLGFHG |Cow\n",
      "MGLSDGEWQLVLNAWGKVEADVAGHGQEVLIRLFTGHPETLEKFDKFKHLKTEAEMKASEDLKKHGNTVLTALGGILKKKGHHEAEVKHLAESHANKHKIPVKYLEFISDAIIHVLHAKHPSDFGADAQAAMSKALELFRNDMAAQYKVLGFHG |Cow\n",
      "MGLSDWEWQLVLNAWGKVEADVAGHGQEVLIRLFTGHPETLEKFDKFKHLKTEAEMKASEDLKKHGNTVLTALGGILKKKGHHEAEVKHLAESHANKHKIPVKYLEFISDAIIHVLHAKHPSDFGADAQAAMSKALELFRNDMAAQYKVLGFHG |Cow\n",
      "MGLSDWEWQLVLNAWGKVEADVAGHGQEVLIRLFTGHPETLEKFDKFKHLKTEAEMKASEDLKKHGNTVLTALGGILKKKGHHEAEVKHLAESHANKHKIPVKYLEFISDAIIHVLHAKHPSDFGADAQAAMSKALELFRNDMAAQYKVLGFHG |Cow\n",
      "MGLSDGEWQLVLNIWGKVETDLAGHGQEVLIRLFKNHPETLDKFDKFKHLKTEDEMKGSEDLKKHGNTVLTALGGILKKKGHHEAELKPLAQSHATKHKIPVKYLEFISDAIIQVLQSKHSGDFHADTEAAMKKALELFRNDIAAKYKELGFQG |Canis_lupus_familiaris\n",
      "MGLSDGEWQLVLNVWGKVETDLAGHGQEVLISLFKGHPETLEKFEKFKHLKTEDEMKGSEDLKKHGSTVLTALGGILKKKGQHEAELKPLAQSHATKHKIPVKYLEFISEAIIHVLQSKHPHDFGTDAQAAMRKALELFRNDIAAKYKELGFQG |Felis_catus\n",
      "MGLSDAEWQLVLNVWGKVEADLAGHGQEVLIRLFHTHPETLEKFDKFKHLKSEDEMKASEDLKKHGNTVLTALGAILKKKGHHEAEIKPLAQSHATKHKIPVKYLEFISEAIIHVLHSKHPGDFGADAQAAMSKALELFRNDIAAQYKELGFQG |Rabbit\n",
      "MGLSDGEWQLVLNVWGKVEADIPGHGQEVLIRLFKGHPETLEKFDKFKHLKSEDEMKASEDLKKHGATVLTALGGILKKKGHHEAEIKPLAQSHATKHKIPVKYLEFISECIIQVLQSKHPGDFGADAQGAMNKALELFRKDMASNYKELGFQG |Human\n",
      "MGLSDGEWQLVLNVWGKVEADIPGHGQEVLIRLFKGHPETLEKFDKFKHLKSEDEMKASEDLKKHGATVLTALGGILKKKGHHEAEIKPLAQSHATKHKIPVKYLEFISECIIQVLQSKHPGDFGADAQGAMNKALELFRKDMASNYKELGFQG |Human\n",
      "MGLSDGEWQLVLNVWGKVEADVAGHGQEVLIRLFKGHPETLEKFDKFKHLKSEDEMKASEDLKKHGNTVLTALGGILKKKGHHEAELTPLAQSHATKHKIPVKYLEFISEAIIQVLQSKHPGDFGADAQGAMSKALELFRNDMAAKYKELGFQG |Pig\n",
      "MGLSDGEWQLVLNVWGKVEADVAGHGQEVLIRLFKGHPETLEKFDKFKHLKSEDEMKASEDLKKHGNTVLTALGGILKKKGHHEAELTPLAQSHATKHKIPVKYLEFISEAIIQVLQSKHPGDFGADAQGAMSKALELFRNDMAAKYKELGFQG |Pig\n",
      "MGLSDGEWQLVLNVWGKVEADVAGHGQEVLIRLFKGHPETLEKFDKFKHLKSEDEMKASEDLKKHGNTVLTALGGILKKKGHHEAELTPLAQSHATKHKIPVKYLEFISEAIIQVLQSKHPGDFGADAQGAMSKALELFRNDMAAKYKELGFQG |Pig\n"
     ]
    }
   ],
   "source": [
    "myo_data_aligned = AlignIO.read(open(\"Alignment\\myo_data_aligned.clustal\"), \"clustal\") # This one shows there ARE differences\n",
    "for entry in myo_data_aligned:\n",
    "    for fasta in myo_data:\n",
    "        if fasta.name.split(\" \")[0] == entry.id:\n",
    "            print(entry.seq+\" |\"+fasta.animal)\n",
    "            break   \n",
    "# Very clean alignment (mostly mismatches, less indels)"
   ]
  },
  {
   "cell_type": "markdown",
   "metadata": {},
   "source": [
    "#### All data"
   ]
  },
  {
   "cell_type": "code",
   "execution_count": 16,
   "metadata": {},
   "outputs": [
    {
     "name": "stdout",
     "output_type": "stream",
     "text": [
      "MGAFTEKQEALVNSSFEAFKANLPHHSVVFFNSILEKAPAAKNMFSFLGDAVDP----KNPKLAGHAEKLFGLVRDSAVQLQTKGLVVA-DATLGPIHTQKGV-TDLQFAVVKEALLKTIKEAVGDKWSEELSNPWE----VAYDEIAAAIKKAMAIGSLV |(Soy)V00451.1\n",
      "MGAFTEKQEALVNSSFEAFKANLPHHSVVFFNSILEKAPAAKNMFSFLGDAVDP----KNPKLAGHAEKLFGLVRDSAVQLQTKGLVVA-DATLGPIHTQKGV-TDLQFAVVKEALLKTIKEAVGDKWSEELSNAWE----VAYDEIAAAIKKAMAIGSLV |(Soy)KHN37872.1\n",
      "-GAFTEKQDALVSSSFEAFKANIPQYSVVFYNSILEKAPAAKDLFSFLANGVDP----TNPKLTGHAEKLFALVRDSAGQLKASGTVVA-DAALGSIHAQKAV-TNPEFV-VKEALLKTIKEAVGDKWSDELSSAWE----VAYDELAAAIKKAF------ |(Soy)pir||GPSYC2\n",
      "-VAFTEKQDALVSSSFEAFKANIPQYSVVFYTSILEKAPAAKDLFSFLANGVDP----TNPKLTGHAEKLFALVRDSAGQLKASGTVVA-DAALGSVHAQKAV-TDPQFVVVKEALLKTIKAAVGDKWSDELSRAWE----VAYDELAAAIKKA------- |(Soy)pdb|1FSL|A\n",
      "-VAFTEKQDALVSSSFEAFKANIPQYSVVFYTSILEKAPAAKDLFSFLANGVDP----TNPKLTGHAEKLFALVRDSAGQLKASGTVVA-DAALGSVHAQKAV-TDPQFVVVKEALLKTIKAAVGDKWSDELSRAWE----VAYDELAAAIKKA------- |(Soy)pdb|1FSL|B\n",
      "MVAFTEKQDALVSSSFEAFKANIPQYSVVFYTSILEKAPAAKDLFSFLANGVDP----TNPKLTGHAEKLFALVRDSAGQLKASGTVVA-DAALGSVHAQKAV-TDPQFVVVKEALLKTIKAAVGDKWSDELSRAWE----VAYDELAAAIKKA------- |(Soy)V00453.1\n",
      "MVAFTEKQDALVSSSFEAFKANIPQYSVVFYTSILEKAPAAKDLFSFLANGVDP----TNPKLTGHAEKLFALVRDSAGQLKASGTVVA-DAALGSVHAQKAV-TDPQFVVVKEALLKTIKAAVGDKWSDELSRAWE----VAYDELAAAIKKA------- |(Soy)NP_001235928.1\n",
      "MVAFTEKQDALVSSSFEAFKANIPQYSVVFYTSILEKAPAAKDLFSFLANGVDP----TNPKLTGHAEKLFALVRDSAGQLKASGTVVA-DAALGSVHAQKAV-TDPQFVVVKEALLKTIKAAVGDKWSDELSRAWE----VAYDELAAAIKKA------- |(Soy)KHN37870.1\n",
      "MVAFTEKQDALVSSSFEAFKANIPQYSVVFYTSILEKAPAAKDLFSFLANGVDP----TNPKLTGHAEKLFALVRDSAGQLKASGTVVA-DAALGSVHAQKAV-TDPQFVVVKEALLKTIKAAVGDKWSDELSRAWE----VAYDELAAAIKKA------- |(Soy)sp|P02238|LGBA_SOYBN\n",
      "MVAFTEKQDALVSSSFEAFKANIPQYSVVFYTSILEKAPAAKDLFSFLANGVDP----TNPKLTGHAEKLFALVRDSAGQLKASGTVVA-DAALGSVHAQKAV-TDPQFVVVKEALLKTIKAAVGDKWSDELSRAWE----VAYDELAAAIKKA------- |(Soy)CAA23731.1\n",
      "MGAFTEKQEALVSSSFEAFKANIPQYSVVFYNSILEKAPAAKDLFSFLANGVDP----TNPKLTGHAEKLFALVRDSAGQLKTNGTVVA-DAALVSIHAQKAV-TDPQFVVVKEALLKTIKEAVGGNWSDELSSAWE----VAYDELAAAIKKA------- |(Soy)V00452.1\n",
      "MGAFTEKQEALVSSSFEAFKANIPQYSVVFYNSILEKAPAAKDLFSFLANGVDP----TNPKLTGHAEKLFALVRDSAGQLKTNGTVVA-DAALVSIHAQKAV-TDPQFVVVKEALLKTIKEAVGGNWSDELSSAWE----VAYDELAAAIKKA------- |(Soy)NP_001345001.1\n",
      "MGAFTEKQEALVSSSFEAFKANIPQYSVVFYNSILEKAPAAKDLFSFLANGVDP----TNPKLTGHAEKLFALVRDSAGQLKTNGTVVA-DAALVSIHAQKAV-TDPQFVVVKEALLKTIKEAVGGNWSDELSSAWE----VAYDELAAAIKKA------- |(Soy)sp|P02235|LGB1_SOYBN\n",
      "MGAFTEKQEALVSSSFEAFKANIPQYSVVFYTSILEKAPAAKDLFSFLANGVDP----TNPKLTGHAEKLFALVRDSAGQLKTNGTVVA-DAALVSIHAQKAV-TDPQFVVVKEALLKTIKEAVGGNWSDELSSAWE----VAYDELAAAIKKA------- |(Soy)KHN37871.1\n",
      "MGAFTEKQEALVSSSFEAFKANIPQYSVVFYTSILEKAPAAKDLFSFLSNGVDP----SNPKLTGHAEKLFGLVRDSAGQLKANGTVVA-DAALGSIHAQKAI-TDPQFVVVKEALLKTIKEAVGDKWSDELSSAWE----VAYDELAAAIKKAF------ |(Soy)NM_001248319.3\n",
      "MGAFTEKQEALVSSSFEAFKANIPQYSVVFYTSILEKAPAAKDLFSFLSNGVDP----SNPKLTGHAEKLFGLVRDSAGQLKANGTVVA-DAALGSIHAQKAI-TDPQFVVVKEALLKTIKEAVGDKWSDELSSAWE----VAYDELAAAIKKAF------ |(Soy)NP_001235248.2\n",
      "MGAFTEKQEALVSSSFEAFKANIPQYSVVFYTSILEKAPAAKDLFSFLSNGVDP----SNPKLTGHAEKLFGLVRDSAGQLKANGTVVA-DAALGSIHAQKAI-TDPQFVVVKEALLKTIKEAVGDKWSDELSSAWE----VAYDELAAAIKKAF------ |(Soy)KHN00941.1\n",
      "MGAFTEKQEALVSSSFEAFKANIPQYSVVFYTSILEKAPAAKDLFSFLSNGVDP----SNPKLTGHAEKLFGLVRDSAGQLKANGTVVA-DAALGSIHAQKAI-TDPQFVVVKEALLKTIKEAVGDKWSDELSSAWE----VAYDELAAAIKKAF------ |(Soy)AAA33980.1\n",
      "MGAFTEKQEALVSSSFEAFKANIPQYSVVFYTSILEKAPAAKDLFSFLSNGVDP----SNPKLTGHAEKLFGLVRDSAGQLKANGTVVA-DAALGSIHAQKAI-TDPQFVVVKEALLKTIKEAVGDKWSDELSSAWE----VAYDELAAAIKKAF------ |(Soy)sp|P02236|LGB2_SOYBN\n",
      "MGAFTEKQEALVSSSFEAFKANIPQYSVVFYTSILEKAPAAKDLFSFLSNGVDP----SNPKLTGHAEKLFGLVRDSAGQLKANGTVVA-DAALGSIHAQKAI-TDPQFVVVKEALLKTIKEAVGDKWSDELSSAWE----VAYDELAAAIKKAF------ |(Soy)sp|P02236.2|LGB2_SOYBN\n",
      "MGAFTEKQEALVSSSFEAFKANIPQYSVVFYTSILEKAPAAKDLFSFLSNGVDP----SNPKLTGHAEKLFGLVRDSAGQLKANGTVVA-DAALGSIHAQKAI-TDPQFVVVKEALLKTIKEAVGDKWSDELSSAWE----VAYDELAAAIKKAF------ |(Soy)J01301.1\n",
      "MGAFTDKQEALVSSSFEAFKTNIPQYSVVFYTSILEKAPVAKDLFSFLANGVDP----TNPKLTGHAEKLFGLVRDSAGQLKASGTVVI-DAALGSIHGQKAI-TDPQFVVVKEALLKTIKEAVGDKWSDELSSAWE----VAYDELAAAIKKAF------ |(Soy)NP_001235423.1\n",
      "MGAFTDKQEALVSSSFEAFKTNIPQYSVVFYTSILEKAPVAKDLFSFLANGVDP----TNPKLTGHAEKLFGLVRDSAGQLKASGTVVI-DAALGSIHAQKAI-TDPQFVVVKEALLKTIKEAVGDKWSDELSSAWE----VAYDELAAAIKKA------- |(Soy)V00454.1\n",
      "MGAFTDKQEALVSSSFEAFKTNIPQYSVVFYTSILEKAPVAKDLFSFLANGVDP----TNPKLTGHAEKLFGLVRDSAGQLKASGTVVI-DAALGSIHAQKAI-TDPQFVVVKEALLKTIKEAVGDKWSDELSSAWE----VAYDELAAAIKKAF------ |(Soy)CAA23732.1\n",
      "MGAFTDKQEALVSSSFEAFKTNIPQYSVVFYTSILEKAPVAKDLFSFLANGVDP----TNPKLTGHAEKLFGLVRDSAGQLKASGTVVI-DAALGSIHAQKAI-TDPQFVVVKEALLKTIKEAVGDKWSDELSSAWE----VAYDELAAAIKKAF------ |(Soy)sp|P02237.2|LGB3_SOYBN\n",
      "MVL-SAADKGNVKAAWGKVGGHAAEYGAEALERMFLSFPTTKTYFPHFDL------SHGSAQVKGHGAKVAAAL---TKAVEHLDDLPGALSELSDLHAHKLRVDPVNFKLLSHSLLVTLASHLPSDFTPAVHASLDKFLANVSTVLTSKYR--------- |Cow\n",
      "-----MANYDMVLQCWEPVEADYNNHGGLVLSRLFAEHPETLTLFPKFAGIAAG-DLSGNAAVAAHGATVLRKL---GELLNARGDHAATLKSLATTHANKHKIPLKNFTLITNIICKVMGEKAGL--DEAGQEALRQVMGVIIADINVTYMELGFAG--- |Salmon\n",
      "MGL-SDQEWQQVLTIWGKVEADIAGHGHEVLMRLFHDHPETLDRFDKFKGLKTPDQMKGSEDLKKHGATVLTQL---GKILKQKGNHESELKPLAQTHATKHKIPVKYLEFISEVIIKVIAEKHAADFGADSQAAMKKALELFRNDMASKYKEFGFQG--- |Chicken\n",
      "MGL-SDQEWQQVLTIWGKVEADIAGHGHEVLMRLFHDHPETLDRFDKFKGLKTPDQMKGSEDLKKHGATVLTQL---GKILKQKGNHESELKPLAQTHATKHKIPVKYLEFISEVIIKVIAEKHAADFGADSQAAMKKALELFRNDMASKYKEFGFQG--- |Chicken\n",
      "MGL-SDQEWQQVLTIWGKVEADIAGHGHEVLMRLFHDHPETLDRFDKFKGLKTPDQMKGSEDLKKHGATVLTQL---GKILKQKGNHESELKPLAQTHATKHKIPVKYLEFISEVIIKVIAEKHAADFGADSQAAMKKALELFRNDMASKYKEFGFQG--- |Chicken\n",
      "MGL-SDQEWQQVLTIWGKVEADIAGHGHEVLMRLFHDHPETLDRFDKFKGLKTPDQMKGSEDLKKHGATVLTQL---GKILKQKGNHESELKPLAQTHATKHKIPVKYLEFISEVIIKVIAEKHAADFGADSQAAMKKALELFRNDMASKYKEFGFQG--- |Turkey\n",
      "MGL-SDQEWQQVLTIWGKVEADIAGHGHEVLMRLFHDHPETLDRFDKFKGLKTPDQMKGSEDLKKHGATVLTQL---GKILKQKGNHESELKPLAQTHATKHKIPVKYLEFISEVIIKVIAEKHAADFGADSQAAMKKALELFRNDMASKYKEFGFQG--- |Turkey\n",
      "MGL-SDQEWQQVLTIWGKVEADLAGHGHAVLMRLFQDHPETLDRFEKFKGLKTPDQMKGSEDLKKHGVTVLTQL---GKILKQKGNHEAELKPLAQTHATKHKIPVKYLEFISEVIIKVIAEKHSADFGADSQAAMKKALELFRNDMASKYKEFGFQG--- |Duck\n",
      "MGL-SDGEWQLVLNAWGKVEAGVAGHGQEVLIRLFTGHPETLEKFDKFKHLKTEAEMKASEDLKKHGNTVLTAL---GGILEKKGHHEAEVKHLAESHANKHKIPVKYLEFISDAIIHVLHAKHPSDFGADAQGAMSKALELFRNDMAAQYKVLGFQG--- |Sheep\n",
      "MGL-SDGEWTLVLNAWGKVEADVAGHGQEVLIRLFTGHPETLEKFDKFKHLKTGAEMKASEDLKKHGNTVLTAL---GGILKKKGHHEAEVKHLAESHANKHKIPVKYLEFISDAIIHVLHAKHPSDFGADAQGAMSKALELFRNDMAAQYKVLGFQG--- |Goat\n",
      "MGL-SDGEWQLVLNAWGKVEADVAGHGQEVLIRLFTGHPETLEKFDKFKHLKTEAEMKASEDLKKHGNTVLTAL---GGILKKKGHHEAEVKHLAESHANKHKIPVKYLEFISDAIIHVLHAKHPSDFGADAQAAMSKALELFRNDMAAQYKVLGFHG--- |Cow\n",
      "MGL-SDGEWQLVLNAWGKVEADVAGHGQEVLIRLFTGHPETLEKFDKFKHLKTEAEMKASEDLKKHGNTVLTAL---GGILKKKGHHEAEVKHLAESHANKHKIPVKYLEFISDAIIHVLHAKHPSDFGADAQAAMSKALELFRNDMAAQYKVLGFHG--- |Cow\n",
      "MGL-SDGEWQLVLNAWGKVEADVAGHGQEVLIRLFTGHPETLEKFDKFKHLKTEAEMKASEDLKKHGNTVLTAL---GGILKKKGHHEAEVKHLAESHANKHKIPVKYLEFISDAIIHVLHAKHPSDFGADAQAAMSKALELFRNDMAAQYKVLGFHG--- |Cow\n",
      "MGL-SDGEWQLVLNAWGKVEADVAGHGQEVLIRLFTGHPETLEKFDKFKHLKTEAEMKASEDLKKHGNTVLTAL---GGILKKKGHHEAEVKHLAESHANKHKIPVKYLEFISDAIIHVLHAKHPSDFGADAQAAMSKALELFRNDMAAQYKVLGFHG--- |Cow\n",
      "MGL-SDGEWQLVLNAWGKVEADVAGHGQEVLIRLFTGHPETLEKFDKFKHLKTEAEMKASEDLKKHGNTVLTAL---GGILKKKGHHEAEVKHLAESHANKHKIPVKYLEFISDAIIHVLHAKHPSDFGADAQAAMSKALELFRNDMAAQYKVLGFHG--- |Cow\n",
      "MGL-SDWEWQLVLNAWGKVEADVAGHGQEVLIRLFTGHPETLEKFDKFKHLKTEAEMKASEDLKKHGNTVLTAL---GGILKKKGHHEAEVKHLAESHANKHKIPVKYLEFISDAIIHVLHAKHPSDFGADAQAAMSKALELFRNDMAAQYKVLGFHG--- |Cow\n",
      "MGL-SDWEWQLVLNAWGKVEADVAGHGQEVLIRLFTGHPETLEKFDKFKHLKTEAEMKASEDLKKHGNTVLTAL---GGILKKKGHHEAEVKHLAESHANKHKIPVKYLEFISDAIIHVLHAKHPSDFGADAQAAMSKALELFRNDMAAQYKVLGFHG--- |Cow\n",
      "MGL-SDGEWQLVLNIWGKVETDLAGHGQEVLIRLFKNHPETLDKFDKFKHLKTEDEMKGSEDLKKHGNTVLTAL---GGILKKKGHHEAELKPLAQSHATKHKIPVKYLEFISDAIIQVLQSKHSGDFHADTEAAMKKALELFRNDIAAKYKELGFQG--- |Canis_lupus_familiaris\n",
      "MGL-SDGEWQLVLNVWGKVETDLAGHGQEVLISLFKGHPETLEKFEKFKHLKTEDEMKGSEDLKKHGSTVLTAL---GGILKKKGQHEAELKPLAQSHATKHKIPVKYLEFISEAIIHVLQSKHPHDFGTDAQAAMRKALELFRNDIAAKYKELGFQG--- |Felis_catus\n",
      "MGL-SDAEWQLVLNVWGKVEADLAGHGQEVLIRLFHTHPETLEKFDKFKHLKSEDEMKASEDLKKHGNTVLTAL---GAILKKKGHHEAEIKPLAQSHATKHKIPVKYLEFISEAIIHVLHSKHPGDFGADAQAAMSKALELFRNDIAAQYKELGFQG--- |Rabbit\n",
      "MGL-SDGEWQLVLNVWGKVEADIPGHGQEVLIRLFKGHPETLEKFDKFKHLKSEDEMKASEDLKKHGATVLTAL---GGILKKKGHHEAEIKPLAQSHATKHKIPVKYLEFISECIIQVLQSKHPGDFGADAQGAMNKALELFRKDMASNYKELGFQG--- |Human\n",
      "MGL-SDGEWQLVLNVWGKVEADIPGHGQEVLIRLFKGHPETLEKFDKFKHLKSEDEMKASEDLKKHGATVLTAL---GGILKKKGHHEAEIKPLAQSHATKHKIPVKYLEFISECIIQVLQSKHPGDFGADAQGAMNKALELFRKDMASNYKELGFQG--- |Human\n",
      "MGL-SDGEWQLVLNVWGKVEADVAGHGQEVLIRLFKGHPETLEKFDKFKHLKSEDEMKASEDLKKHGNTVLTAL---GGILKKKGHHEAELTPLAQSHATKHKIPVKYLEFISEAIIQVLQSKHPGDFGADAQGAMSKALELFRNDMAAKYKELGFQG--- |Pig\n",
      "MGL-SDGEWQLVLNVWGKVEADVAGHGQEVLIRLFKGHPETLEKFDKFKHLKSEDEMKASEDLKKHGNTVLTAL---GGILKKKGHHEAELTPLAQSHATKHKIPVKYLEFISEAIIQVLQSKHPGDFGADAQGAMSKALELFRNDMAAKYKELGFQG--- |Pig\n",
      "MGL-SDGEWQLVLNVWGKVEADVAGHGQEVLIRLFKGHPETLEKFDKFKHLKSEDEMKASEDLKKHGNTVLTAL---GGILKKKGHHEAELTPLAQSHATKHKIPVKYLEFISEAIIQVLQSKHPGDFGADAQGAMSKALELFRNDMAAKYKELGFQG--- |Pig\n"
     ]
    }
   ],
   "source": [
    "combined_data_aligned = AlignIO.read(open(\"Alignment\\combined_data_aligned.clustal\"), \"clustal\") # Same analysis as Tree\n",
    "i=0\n",
    "for entry in combined_data_aligned:\n",
    "    is_leg = True\n",
    "    for fasta in myo_data:\n",
    "        if fasta.name.split(\" \")[0] == entry.id:\n",
    "            print(entry.seq+\" |\"+fasta.animal)\n",
    "            is_leg = False\n",
    "            i+=1\n",
    "            break\n",
    "    if is_leg:\n",
    "        print(entry.seq+\" |(Soy)\"+entry.id)    \n",
    "# There is a very noticable segregation between leghemoglobin and hemoglobin"
   ]
  },
  {
   "cell_type": "markdown",
   "metadata": {},
   "source": [
    "### Split data 80/20"
   ]
  },
  {
   "cell_type": "markdown",
   "metadata": {},
   "source": [
    "#### Leghemoglobin data"
   ]
  },
  {
   "cell_type": "code",
   "execution_count": 17,
   "metadata": {},
   "outputs": [],
   "source": [
    "leg_seqs = []\n",
    "for entry in leg_data_aligned:\n",
    "    leg_seqs.append(str(entry.seq))\n",
    "\n",
    "leg_train = leg_seqs[:int(0.8*len(leg_seqs))]\n",
    "leg_test = leg_seqs[int(0.8*len(leg_seqs)):]\n",
    "\n",
    "#Unalign test set (luckily all the deletes are at the end)\n",
    "for i, test in enumerate(leg_test):\n",
    "    leg_test[i] = test[:test.index('-')]"
   ]
  },
  {
   "cell_type": "markdown",
   "metadata": {},
   "source": [
    "#### Myoglobin data (Hand pick test values)"
   ]
  },
  {
   "cell_type": "code",
   "execution_count": 18,
   "metadata": {},
   "outputs": [],
   "source": [
    "myo_seqs = []\n",
    "for entry in myo_data_aligned:\n",
    "    myo_seqs.append(str(entry.seq))\n",
    "\n",
    "selection = [5, 15, 2, 18, 24] # Cow, human, chicken, pig, turkey\n",
    "myo_train = np.delete(myo_seqs, selection).tolist()\n",
    "myo_test = np.array(myo_data)[selection]\n",
    "myo_test_labels = [\"Cow\", \"Human\", \"Chicken\", \"Pig\", \"Turkey\"]\n",
    "\n",
    "#Extract sequences out of FASTA node\n",
    "for i, test in enumerate(myo_test):\n",
    "    myo_test[i] = test.sequence"
   ]
  },
  {
   "cell_type": "markdown",
   "metadata": {},
   "source": [
    "#### Myoglobin data (Hand pick only cow test sequences)"
   ]
  },
  {
   "cell_type": "code",
   "execution_count": 19,
   "metadata": {},
   "outputs": [],
   "source": [
    "cow_selection = range(4,12)\n",
    "cow_test = []\n",
    "for i in cow_selection:\n",
    "    cow_test.append(myo_data[i].sequence)\n",
    "\n",
    "cow_selection = [0, 10, 11, 12, 13, 14, 15, 16]\n",
    "cow_aligned = np.array(myo_seqs)[cow_selection]"
   ]
  },
  {
   "cell_type": "markdown",
   "metadata": {},
   "source": [
    "### HMM from scratch"
   ]
  },
  {
   "cell_type": "markdown",
   "metadata": {},
   "source": [
    "#### Initialize final variables"
   ]
  },
  {
   "cell_type": "code",
   "execution_count": 20,
   "metadata": {},
   "outputs": [],
   "source": [
    "E = 0.01\n",
    "ins_E = 0.01\n",
    "num_proteins = 20"
   ]
  },
  {
   "cell_type": "markdown",
   "metadata": {},
   "source": [
    "#### Base State"
   ]
  },
  {
   "cell_type": "code",
   "execution_count": 21,
   "metadata": {},
   "outputs": [],
   "source": [
    "class Base_State(object):\n",
    "    def __init__(self):\n",
    "        self.next = {} #{\"name\":(probability, node_object)}"
   ]
  },
  {
   "cell_type": "markdown",
   "metadata": {},
   "source": [
    "#### Normal State"
   ]
  },
  {
   "cell_type": "code",
   "execution_count": 22,
   "metadata": {},
   "outputs": [],
   "source": [
    "class State(Base_State):\n",
    "    def __init__(self):\n",
    "        super().__init__()\n",
    "        self.attributes = {\n",
    "            \"F\": E, \"L\": E, \"I\": E, \"M\": E,\n",
    "            \"V\": E, \"A\": E, \"T\": E, \"P\": E,\n",
    "            \"S\": E, \"D\": E, \"E\": E, \"N\": E,\n",
    "            \"K\": E, \"Q\": E, \"H\": E, \"Y\": E,\n",
    "            \"C\": E, \"W\": E, \"R\": E, \"G\": E\n",
    "        }"
   ]
  },
  {
   "cell_type": "markdown",
   "metadata": {},
   "source": [
    "#### Insert State"
   ]
  },
  {
   "cell_type": "code",
   "execution_count": 23,
   "metadata": {},
   "outputs": [],
   "source": [
    "class InsertState(Base_State):\n",
    "    def __init__(self):\n",
    "        super().__init__()\n",
    "        self.next[\"insert\"] = (ins_E, self)"
   ]
  },
  {
   "cell_type": "markdown",
   "metadata": {},
   "source": [
    "#### Delete State"
   ]
  },
  {
   "cell_type": "code",
   "execution_count": 24,
   "metadata": {},
   "outputs": [],
   "source": [
    "class DeleteState(Base_State):\n",
    "    def __init__(self):\n",
    "        super().__init__()"
   ]
  },
  {
   "cell_type": "markdown",
   "metadata": {},
   "source": [
    "#### HMM Class"
   ]
  },
  {
   "cell_type": "code",
   "execution_count": 25,
   "metadata": {},
   "outputs": [],
   "source": [
    "class HMM:\n",
    "    def __init__(self):\n",
    "        self.root = State()\n",
    "        self.stop = State()\n",
    "        \n",
    "# Train the model\n",
    "    def fit(self, data):\n",
    "        curr_state = self.root\n",
    "        curr_del_state = None\n",
    "        for i in range(len(data[0])):\n",
    "            # Get all the chars in the column\n",
    "            aas = {}\n",
    "            for seq in data:\n",
    "                if seq[i] in aas.keys():\n",
    "                    aas[seq[i]] += 1\n",
    "                else:\n",
    "                    aas[seq[i]] = 1\n",
    "            \n",
    "            # Calculate the remaining probability to distribute among Normal State's Attributes\n",
    "            att_prob = 1\n",
    "            not_included = num_proteins - len(aas.keys())    #Count # of aa not included in column\n",
    "            has_gap = 0\n",
    "            if '-' in aas.keys():                            #Gap is NOT an aa\n",
    "                not_included += 1\n",
    "                has_gap = aas['-']\n",
    "            att_prob -= not_included*E                       #aa not included error taken out\n",
    "            att_prob /= (len(data)-has_gap)                  #Divide among each # of sequences\n",
    "            \n",
    "            # Create states\n",
    "            next_state = State()\n",
    "            next_state_prob = 1 - ins_E      #Probability of reaching the normal state\n",
    "            next_delete = None\n",
    "            has_delete = False\n",
    "            for aa in aas:\n",
    "                if not aa == '-':\n",
    "                    next_state.attributes[aa] = att_prob*aas[aa]    #Db: calculated correctly\n",
    "                else:\n",
    "                    next_delete = DeleteState()\n",
    "                    curr_state.next[\"delete\"] = (1/len(data)*aas[aa], next_delete)    # Add del_state to curr_state.next\n",
    "                    next_state_prob -= 1/len(data)*aas[aa]                        # Update probability of reaching the normal state {Db: calculated correctly}\n",
    "                    if curr_del_state is not None:                                # Link nodes onto delete state and update curr_del_state\n",
    "                        curr_del_state.next[\"delete\"] = (1/len(data)*aas[aa], next_delete)\n",
    "                        curr_del_state.next[\"normal\"] = (next_state_prob+ins_E, next_state)\n",
    "                    curr_del_state = next_delete\n",
    "                    has_delete = True\n",
    "            curr_state.next[\"normal\"] = (next_state_prob, next_state)\n",
    "            \n",
    "            # If state no delete state was created with an active delete state, \n",
    "            # update curr_del_state to None and link to new state.\n",
    "            if not has_delete and curr_del_state is not None:    \n",
    "                curr_del_state.next[\"normal\"] = (next_state_prob+ins_E, next_state)\n",
    "                curr_del_state = None\n",
    "\n",
    "            #Add insert state\n",
    "            ins_state = InsertState()\n",
    "            ins_state.next[\"normal\"] = (1-ins_E, next_state)\n",
    "            curr_state.next[\"insert\"] = (ins_E, ins_state)        \n",
    "            \n",
    "            #Iterate to next state\n",
    "            curr_state = next_state\n",
    "            \n",
    "        # Link to stop node (no need to range(-1) in loop)\n",
    "        ins_state = InsertState()\n",
    "        ins_state.next[\"normal\"] = (1-ins_E, self.stop)\n",
    "        \n",
    "        curr_state.next[\"insert\"] = (ins_E, ins_state)\n",
    "        curr_state.next[\"normal\"] = (1-ins_E, self.stop)\n",
    "        \n",
    "        if curr_del_state is not None:\n",
    "            curr_del_state.next[\"normal\"] = (1, self.stop)\n",
    "        \n",
    "# Get the Viterbi Score        \n",
    "    def predict(self, sequence):\n",
    "        # Initialize the table with initial probability (Rows: normal = 0, insert = 1, delete = 2)\n",
    "        table = []\n",
    "        for i in range(3):\n",
    "            table.append([1/3])\n",
    "        \n",
    "        delete = False\n",
    "        # Initialize states\n",
    "        states = [None,None,None]     #Again: normal = 0, insert = 1, delete = 2)\n",
    "        states[0] = self.root  #Normal\n",
    "        states[1] = states[0].next[\"insert\"][1]\n",
    "        states[2] = None\n",
    "        if \"delete\" in states[0].next.keys():\n",
    "            states[2] = states[0].next[\"delete\"][1]\n",
    "            delete = True\n",
    "            \n",
    "        # Fill table\n",
    "        reached_end = False\n",
    "        for x in range(len(sequence)):\n",
    "            next_state = None\n",
    "            \n",
    "            # If reached end of linked list and insertion is needed\n",
    "            if reached_end:\n",
    "                table[0].append(table[0][x] * ins_E)\n",
    "                table[1].append(table[0][x] * ins_E)\n",
    "                table[2].append(table[0][x] * ins_E)   # Not possible, but we need some value\n",
    "            else:\n",
    "                next_state = states[0].next[\"normal\"][1]\n",
    "                \n",
    "                # Calculate value for the normal state row\n",
    "                temp = []\n",
    "                for i in range(3):\n",
    "                    if i == 2 and (delete or states[i] == None):   # In case delete state [2] is blank\n",
    "                        break\n",
    "                    temp.append(table[i][x] * states[i].next[\"normal\"][0] * next_state.attributes[sequence[x]])\n",
    "                normal_value = max(temp)\n",
    "                table[0].append(normal_value)\n",
    "\n",
    "                # Calculate value for the insert state row\n",
    "                temp = []\n",
    "                for i in range(2):   # An insert in a delete (delete->insert) is not possible: would just be a mismatch\n",
    "                    temp.append(table[i][x] * states[i].next[\"insert\"][0])\n",
    "                insert_value = max(temp)\n",
    "                table[1].append(insert_value)\n",
    "\n",
    "                # Calculate value for the delete state row\n",
    "                # Also: A delete in an insert (insert->delete) is not possible: would just be a mismatch\n",
    "                temp = []\n",
    "                delete_value = table[0][x] * ins_E     # Psuedo-delete state if delete state doesn't exist: max(table[0][x]*ins_E, -99, -99)\n",
    "                if \"delete\" in states[0].next:    # If delete state exists\n",
    "                    temp.append(table[0][x] * states[0].next[\"delete\"][0])\n",
    "                    \n",
    "                    if not states[2] == None and \"delete\" in states[2].next.keys() and not delete:\n",
    "                        temp.append(table[2][x] * states[2].next[\"delete\"][0])\n",
    "                    else:\n",
    "                        temp.append(table[2][x] * ins_E) # Psuedo-delete state\n",
    "                    delete_value = max(temp)\n",
    "                table[2].append(delete_value)\n",
    "\n",
    "            #Iterate nodes\n",
    "            if reached_end or len(next_state.next) == 0:    # Sequence is longer than training sequences and require insertion\n",
    "                reached_end = True\n",
    "            else:\n",
    "                # Handle delete state. If there is a delete, has to skip an iteration before processing (hence the 'delete' boolean)\n",
    "                if \"delete\" in next_state.next.keys():\n",
    "                    states[2] = next_state.next[\"delete\"][1]\n",
    "                    delete = True\n",
    "                else:\n",
    "                    if delete:\n",
    "                        delete = False\n",
    "                    else:\n",
    "                        states[2] = None\n",
    "                #Iterate nornal state\n",
    "                if isinstance(next_state, DeleteState):\n",
    "                    states[1] = None\n",
    "                else:\n",
    "                    states[1] = next_state.next[\"insert\"][1]\n",
    "                states[0] = next_state\n",
    "                \n",
    "        # Get Viterbi score\n",
    "        score = max(\n",
    "            table[0][-1],\n",
    "            table[1][-1],\n",
    "            table[2][-1]\n",
    "        )\n",
    "        \n",
    "        return score"
   ]
  },
  {
   "cell_type": "markdown",
   "metadata": {},
   "source": [
    "### Train Model and Test"
   ]
  },
  {
   "cell_type": "code",
   "execution_count": 26,
   "metadata": {},
   "outputs": [],
   "source": [
    "leg_hmm = HMM()\n",
    "leg_hmm.fit(leg_train)\n",
    "\n",
    "myo_hmm = HMM()\n",
    "myo_hmm.fit(myo_train)"
   ]
  },
  {
   "cell_type": "markdown",
   "metadata": {},
   "source": [
    "#### Test Leghemoglobin HMM"
   ]
  },
  {
   "cell_type": "code",
   "execution_count": 27,
   "metadata": {},
   "outputs": [
    {
     "name": "stdout",
     "output_type": "stream",
     "text": [
      "Soy\t5.30033873848049e-20\n",
      "Soy\t5.614113567991492e-29\n",
      "Soy\t7.457788463719895e-27\n",
      "Soy\t4.101783655045943e-27\n",
      "Soy\t4.101783655045943e-27\n"
     ]
    }
   ],
   "source": [
    "for test in leg_test:\n",
    "    score = leg_hmm.predict(test)\n",
    "    print(\"Soy\\t\"+str(score))\n",
    "# Base scores to sompare with below"
   ]
  },
  {
   "cell_type": "markdown",
   "metadata": {},
   "source": [
    "#### Test Myohemoglobin HMM"
   ]
  },
  {
   "cell_type": "code",
   "execution_count": 28,
   "metadata": {},
   "outputs": [
    {
     "name": "stdout",
     "output_type": "stream",
     "text": [
      "Cow\t5.746529244269801e-29\n",
      "Human\t2.404579744105982e-35\n",
      "Chicken\t7.613327645334508e-43\n",
      "Pig\t4.477347112747736e-31\n",
      "Turkey\t7.613327645334508e-43\n"
     ]
    }
   ],
   "source": [
    "for test, label in zip(myo_test, myo_test_labels):\n",
    "    score = myo_hmm.predict(test)\n",
    "    print(label+\"\\t\"+str(score))\n",
    "# Base scores to sompare with below"
   ]
  },
  {
   "cell_type": "markdown",
   "metadata": {},
   "source": [
    "#### Use Leghemoglobin test set on Myohemoglobin HMM"
   ]
  },
  {
   "cell_type": "code",
   "execution_count": 29,
   "metadata": {},
   "outputs": [
    {
     "name": "stdout",
     "output_type": "stream",
     "text": [
      "Soy\t4.4437712440684957e-262\n",
      "Soy\t6.7600268408003205e-264\n",
      "Soy\t6.76002684080032e-262\n",
      "Soy\t6.7600268408003205e-264\n",
      "Soy\t6.7600268408003205e-264\n"
     ]
    }
   ],
   "source": [
    "for test in leg_test:\n",
    "    score = myo_hmm.predict(test)\n",
    "    print(\"Soy\\t\"+str(score))\n",
    "# Bad scores"
   ]
  },
  {
   "cell_type": "markdown",
   "metadata": {},
   "source": [
    "#### Use Myohemoglobin test set on Leghemoglobin HMM"
   ]
  },
  {
   "cell_type": "code",
   "execution_count": 30,
   "metadata": {},
   "outputs": [
    {
     "name": "stdout",
     "output_type": "stream",
     "text": [
      "Cow\t2.829675374206272e-281\n",
      "Human\t2.829675374206272e-281\n",
      "Chicken\t2.187259222762203e-283\n",
      "Pig\t2.2971304687806525e-280\n",
      "Turkey\t2.187259222762203e-283\n"
     ]
    }
   ],
   "source": [
    "for test, label in zip(myo_test, myo_test_labels):\n",
    "    score = leg_hmm.predict(test)\n",
    "    print(label+\"\\t\"+str(score))\n",
    "# Bad scores"
   ]
  },
  {
   "cell_type": "markdown",
   "metadata": {},
   "source": [
    "### Extra analysis: Cow Myohemoglobin test (359 lines of code up to here)"
   ]
  },
  {
   "cell_type": "markdown",
   "metadata": {},
   "source": [
    "#### Use Cow only Myohemoglobin test set on Leghemoglobin HMM"
   ]
  },
  {
   "cell_type": "code",
   "execution_count": 31,
   "metadata": {},
   "outputs": [
    {
     "name": "stdout",
     "output_type": "stream",
     "text": [
      "Cow\t5.929022975528739e-267\n",
      "Cow\t2.829675374206272e-281\n",
      "Cow\t2.829675374206272e-281\n",
      "Cow\t2.829675374206272e-281\n",
      "Cow\t2.829675374206272e-281\n",
      "Cow\t2.829675374206272e-281\n",
      "Cow\t2.829675374206272e-281\n",
      "Cow\t2.829675374206272e-281\n"
     ]
    }
   ],
   "source": [
    "for test in cow_test:\n",
    "    score = leg_hmm.predict(test)\n",
    "    print(\"Cow\\t\"+str(score))\n",
    "# Bad scores"
   ]
  },
  {
   "cell_type": "markdown",
   "metadata": {},
   "source": [
    "#### Train model with Cow sequences only and test with <i>all</i> Leghemoglobin sequences"
   ]
  },
  {
   "cell_type": "code",
   "execution_count": 32,
   "metadata": {},
   "outputs": [
    {
     "name": "stdout",
     "output_type": "stream",
     "text": [
      "Soy\t8.891572360514127e-253\n",
      "Soy\t8.891572360514127e-253\n",
      "Soy\t1.2760140602112642e-266\n",
      "Soy\t1.7963806148048626e-266\n",
      "Soy\t1.8228772288732357e-265\n",
      "Soy\t1.276014060211264e-264\n",
      "Soy\t1.2790445936042654e-275\n",
      "Soy\t1.8228772288732357e-265\n",
      "Soy\t1.8228772288732357e-265\n",
      "Soy\t1.8228772288732357e-265\n",
      "Soy\t1.276014060211264e-264\n",
      "Soy\t1.276014060211264e-264\n",
      "Soy\t8.958808362748201e-253\n",
      "Soy\t1.2760140602112642e-266\n",
      "Soy\t1.2760140602112642e-266\n",
      "Soy\t1.2790445936042654e-275\n",
      "Soy\t1.7963806148048626e-268\n",
      "Soy\t1.7963806148048626e-268\n",
      "Soy\t1.8228772288732357e-265\n",
      "Soy\t1.2760140602112642e-266\n",
      "Soy\t1.276014060211264e-264\n",
      "Soy\t1.2760140602112642e-266\n",
      "Soy\t1.2760140602112642e-266\n",
      "Soy\t1.7963806148048626e-268\n",
      "Soy\t1.2760140602112642e-266\n"
     ]
    }
   ],
   "source": [
    "cow_hmm = HMM()\n",
    "cow_hmm.fit(cow_aligned)\n",
    "for entry in leg_data:\n",
    "    score = cow_hmm.predict(entry.sequence)\n",
    "    print(\"Soy\\t\"+str(score))\n",
    "# Bad scores"
   ]
  },
  {
   "cell_type": "markdown",
   "metadata": {},
   "source": [
    "#### Test <i>all</i> myhemoglobin sequences on Leghemoglobin model"
   ]
  },
  {
   "cell_type": "code",
   "execution_count": 33,
   "metadata": {},
   "outputs": [
    {
     "name": "stdout",
     "output_type": "stream",
     "text": [
      "Canis_lupus_familiaris\t2.829675374206272e-281\n",
      "Chicken\t\t\t2.187259222762203e-283\n",
      "Chicken\t\t\t2.187259222762203e-283\n",
      "Chicken\t\t\t2.187259222762203e-283\n",
      "Cow\t\t\t5.929022975528739e-267\n",
      "Cow\t\t\t2.829675374206272e-281\n",
      "Cow\t\t\t2.829675374206272e-281\n",
      "Cow\t\t\t2.829675374206272e-281\n",
      "Cow\t\t\t2.829675374206272e-281\n",
      "Cow\t\t\t2.829675374206272e-281\n",
      "Cow\t\t\t2.829675374206272e-281\n",
      "Cow\t\t\t2.829675374206272e-281\n",
      "Duck\t\t\t1.753963170733009e-281\n",
      "Felis_catus\t\t2.829675374206272e-281\n",
      "Goat\t\t\t2.829675374206272e-281\n",
      "Human\t\t\t2.829675374206272e-281\n",
      "Human\t\t\t2.829675374206272e-281\n",
      "Pig\t\t\t2.2971304687806525e-280\n",
      "Pig\t\t\t2.2971304687806525e-280\n",
      "Pig\t\t\t2.2971304687806525e-280\n",
      "Rabbit\t\t\t3.8729782571052977e-283\n",
      "Salmon\t\t\t2.919629763048611e-269\n",
      "Sheep\t\t\t3.8729782571052977e-283\n",
      "Turkey\t\t\t2.187259222762203e-283\n",
      "Turkey\t\t\t2.187259222762203e-283\n"
     ]
    }
   ],
   "source": [
    "for entry in myo_data:\n",
    "    #Formating\n",
    "    t = \"\"\n",
    "    if len(entry.animal) < 12:\n",
    "        t = \"\\t\"\n",
    "        if len(entry.animal) < 8:\n",
    "            t += \"\\t\"\n",
    "    \n",
    "    #Calucation here\n",
    "    score = leg_hmm.predict(entry.sequence)\n",
    "    print(entry.animal+\"\\t\"+t+str(score))\n",
    "# Soy is most similar to Salmon and flawed Cow"
   ]
  },
  {
   "cell_type": "markdown",
   "metadata": {},
   "source": [
    "#### Test all remaining myhemoglobin sequences on Cow model"
   ]
  },
  {
   "cell_type": "code",
   "execution_count": 34,
   "metadata": {},
   "outputs": [
    {
     "name": "stdout",
     "output_type": "stream",
     "text": [
      "Canis_lupus_familiaris\t2.0711225011059564e-64\n",
      "Chicken\t\t\t1.0356012715263339e-91\n",
      "Chicken\t\t\t1.0356012715263339e-91\n",
      "Chicken\t\t\t1.0356012715263339e-91\n",
      "Duck\t\t\t1.2726626584187439e-94\n",
      "Felis_catus\t\t1.4711700905980877e-62\n",
      "Goat\t\t\t1.6297455850862154e-29\n",
      "Human\t\t\t1.4901012337395633e-63\n",
      "Human\t\t\t1.4901012337395633e-63\n",
      "Pig\t\t\t2.1608344133386394e-52\n",
      "Pig\t\t\t2.1608344133386394e-52\n",
      "Pig\t\t\t2.1608344133386394e-52\n",
      "Rabbit\t\t\t3.365530858479962e-53\n",
      "Salmon\t\t\t8.929123017613468e-281\n",
      "Sheep\t\t\t1.425291884884441e-28\n",
      "Turkey\t\t\t1.0356012715263339e-91\n",
      "Turkey\t\t\t1.0356012715263339e-91\n"
     ]
    }
   ],
   "source": [
    "for entry in myo_data:\n",
    "    if entry.animal != \"Cow\":\n",
    "        #Formating\n",
    "        t = \"\"\n",
    "        if len(entry.animal) < 12:\n",
    "            t = \"\\t\"\n",
    "            if len(entry.animal) < 8:\n",
    "                t += \"\\t\"\n",
    "\n",
    "        #Calucation here\n",
    "        score = cow_hmm.predict(entry.sequence)\n",
    "        print(entry.animal+\"\\t\"+t+str(score))\n",
    "# Notice: one flawed Cow and Salmon"
   ]
  },
  {
   "cell_type": "markdown",
   "metadata": {},
   "source": [
    "#### Create a model that trains with both Soy and Cow data, then test with all remaining sequences"
   ]
  },
  {
   "cell_type": "code",
   "execution_count": 48,
   "metadata": {},
   "outputs": [
    {
     "name": "stdout",
     "output_type": "stream",
     "text": [
      "Canis_lupus_familiaris\t6.328035515325712e-103\n",
      "Chicken\t\t\t1.1561714956040418e-124\n",
      "Chicken\t\t\t1.1561714956040418e-124\n",
      "Chicken\t\t\t1.1561714956040418e-124\n",
      "Duck\t\t\t1.1741913627882948e-126\n",
      "Felis_catus\t\t2.3016370803073363e-101\n",
      "Goat\t\t\t2.99840498589752e-73\n",
      "Human\t\t\t7.03388513622151e-102\n",
      "Human\t\t\t7.03388513622151e-102\n",
      "Pig\t\t\t1.1004198350666567e-91\n",
      "Pig\t\t\t1.1004198350666567e-91\n",
      "Pig\t\t\t1.1004198350666567e-91\n",
      "Rabbit\t\t\t1.7542359061946265e-93\n",
      "Salmon\t\t\t2.5285983635999325e-262\n",
      "Sheep\t\t\t7.761781414457996e-73\n",
      "Turkey\t\t\t1.1561714956040418e-124\n",
      "Turkey\t\t\t1.1561714956040418e-124\n"
     ]
    }
   ],
   "source": [
    "sc_hmm = HMM()\n",
    "sc_hmm.fit(leg_train[:len(cow_aligned)]+cow_aligned.tolist())\n",
    "for entry in myo_data:\n",
    "    if entry.animal != \"Cow\":\n",
    "        #Formating\n",
    "        t = \"\"\n",
    "        if len(entry.animal) < 12:\n",
    "            t = \"\\t\"\n",
    "            if len(entry.animal) < 8:\n",
    "                t += \"\\t\"\n",
    "        #Calucation here\n",
    "        score = sc_hmm.predict(entry.sequence)\n",
    "        print(entry.animal+\"\\t\"+t+str(score))"
   ]
  },
  {
   "cell_type": "markdown",
   "metadata": {},
   "source": [
    "### Export Train/Test set to compare with HMM given from Lab (399 lines of code up to here)"
   ]
  },
  {
   "cell_type": "markdown",
   "metadata": {},
   "source": [
    "#### Leghemoglobin Training Set"
   ]
  },
  {
   "cell_type": "code",
   "execution_count": 36,
   "metadata": {},
   "outputs": [],
   "source": [
    "file = open(\"Export\\export_leg_train.fa\",\"w\")\n",
    "for i, train in enumerate(leg_train):\n",
    "    file.write(\">Sequence (Soy) \"+str(i+1)+\"\\n\")\n",
    "    file.write(train+\"\\n\")\n",
    "file.close()"
   ]
  },
  {
   "cell_type": "markdown",
   "metadata": {},
   "source": [
    "#### Leghemoglobin Test Set"
   ]
  },
  {
   "cell_type": "code",
   "execution_count": 37,
   "metadata": {},
   "outputs": [],
   "source": [
    "file = open(\"Export\\export_leg_test.fa\",\"w\")\n",
    "for i, train in enumerate(leg_test):\n",
    "    file.write(\">Sequence (Soy) \"+str(i+1)+\"\\n\")\n",
    "    file.write(train+\"\\n\")\n",
    "file.close()"
   ]
  },
  {
   "cell_type": "markdown",
   "metadata": {},
   "source": [
    "#### Myoglobin Test Set"
   ]
  },
  {
   "cell_type": "code",
   "execution_count": 38,
   "metadata": {},
   "outputs": [],
   "source": [
    "file = open(\"Export\\export_myo_train.fa\",\"w\")\n",
    "for i, train in enumerate(myo_train):\n",
    "    file.write(\">Sequence \"+str(i+1)+\"\\n\")\n",
    "    file.write(train+\"\\n\")\n",
    "file.close()"
   ]
  },
  {
   "cell_type": "markdown",
   "metadata": {},
   "source": [
    "#### Myoglobin Test Set"
   ]
  },
  {
   "cell_type": "code",
   "execution_count": 39,
   "metadata": {},
   "outputs": [],
   "source": [
    "file = open(\"Export\\export_myo_test.fa\",\"w\")\n",
    "for i, (train, name) in enumerate(zip(myo_test, myo_test_labels)):\n",
    "    file.write(\">\"+name+\"\\n\")\n",
    "    file.write(train+\"\\n\")\n",
    "file.close()"
   ]
  },
  {
   "cell_type": "markdown",
   "metadata": {},
   "source": [
    "#### Cow only Dataset"
   ]
  },
  {
   "cell_type": "code",
   "execution_count": 40,
   "metadata": {},
   "outputs": [],
   "source": [
    "file = open(\"Export\\export_cow_test.fa\",\"w\")\n",
    "for i, train in enumerate(cow_test):\n",
    "    file.write(\">\"+str(i)+\"\\n\")\n",
    "    file.write(train+\"\\n\")\n",
    "file.close()"
   ]
  },
  {
   "cell_type": "code",
   "execution_count": null,
   "metadata": {},
   "outputs": [],
   "source": []
  }
 ],
 "metadata": {
  "kernelspec": {
   "display_name": "Python 3",
   "language": "python",
   "name": "python3"
  },
  "language_info": {
   "codemirror_mode": {
    "name": "ipython",
    "version": 3
   },
   "file_extension": ".py",
   "mimetype": "text/x-python",
   "name": "python",
   "nbconvert_exporter": "python",
   "pygments_lexer": "ipython3",
   "version": "3.8.5"
  }
 },
 "nbformat": 4,
 "nbformat_minor": 4
}
